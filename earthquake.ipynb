{
 "cells": [
  {
   "cell_type": "markdown",
   "metadata": {},
   "source": [
    "# Bangsamoro Earthquake Data Visualization\n",
    "## Links\n",
    "1. https://towardsdatascience.com/how-to-create-an-interactive-geographic-map-using-python-and-bokeh-12981ca0b567\n",
    "\n",
    "## Instructions(Local)\n",
    "0. Make sure packages required are installed : `pip install -r requirements.txt`\n",
    "1. Running this notebook is not needed. We can go directly to command line and run `bokeh serve path/to/this/ipynb --show`\n",
    "2. Open localhost:5006/earthquake on your browser or whatever link is provided after step 1\n",
    "3. Wait for a while as bokeh is quite slow(possibly depend on your machine)\n",
    "\n",
    "## Todo\n",
    "1. Include non BARMM Geodata as the visualization has a lot of white space, but gray out this non BARMM as this is not part of the project\n",
    "2. Fix hover, it is not working when changing to medium risk earthquake data\n",
    "3. Deploy to heroku\n",
    "4. See if PWA/Offline App possible"
   ]
  },
  {
   "cell_type": "code",
   "execution_count": null,
   "metadata": {},
   "outputs": [],
   "source": [
    "import pandas as pd\n",
    "import numpy as np\n",
    "import math\n",
    "\n",
    "import geopandas as gpd\n",
    "import shapely.geometry as gm\n",
    "import json"
   ]
  },
  {
   "cell_type": "markdown",
   "metadata": {},
   "source": [
    "# Data Processing"
   ]
  },
  {
   "cell_type": "markdown",
   "metadata": {},
   "source": [
    "## Risk Data"
   ]
  },
  {
   "cell_type": "code",
   "execution_count": null,
   "metadata": {},
   "outputs": [],
   "source": [
    "highrisk = pd.read_csv('data/high_risk0.csv')\n",
    "medrisk = pd.read_csv('data/midrisk.csv')\n",
    "medrisk_sea = pd.read_csv('data/medium.csv')"
   ]
  },
  {
   "cell_type": "code",
   "execution_count": null,
   "metadata": {},
   "outputs": [],
   "source": [
    "highrisk = gpd.GeoDataFrame(highrisk.drop(['latitude','longitude'],axis=1), crs={'init': 'epsg:4326'} ,geometry = [gm.Point(latlong) for latlong in zip(highrisk.longitude, highrisk.latitude)])\n",
    "medrisk = gpd.GeoDataFrame(medrisk.drop(['latitude','longitude'],axis=1), crs={'init': 'epsg:4326'} ,geometry = [gm.Point(latlong) for latlong in zip(medrisk.longitude, medrisk.latitude)])\n",
    "medrisk_sea = gpd.GeoDataFrame(medrisk_sea.drop(['latitude','longitude'],axis=1), crs={'init': 'epsg:4326'} ,geometry = [gm.Point(latlong) for latlong in zip(medrisk_sea.longitude, medrisk_sea.latitude)])"
   ]
  },
  {
   "cell_type": "markdown",
   "metadata": {},
   "source": [
    "## Geo Data"
   ]
  },
  {
   "cell_type": "code",
   "execution_count": null,
   "metadata": {},
   "outputs": [],
   "source": [
    "bm = gpd.read_file('mapdata/AdministrativeBoundariesBARMMMunicipalities20190206PSA2016.shp')"
   ]
  },
  {
   "cell_type": "code",
   "execution_count": null,
   "metadata": {
    "scrolled": false
   },
   "outputs": [],
   "source": [
    "bm = bm.to_crs(epsg=4236)"
   ]
  },
  {
   "cell_type": "code",
   "execution_count": null,
   "metadata": {},
   "outputs": [],
   "source": [
    "bm['geometry'] = [geometry for geometry in bm['geometry'].simplify(0.001).translate(xoff=0.0075,yoff=-0.0019) ]"
   ]
  },
  {
   "cell_type": "markdown",
   "metadata": {},
   "source": [
    "## Population Data"
   ]
  },
  {
   "cell_type": "code",
   "execution_count": null,
   "metadata": {},
   "outputs": [],
   "source": [
    "population = pd.read_csv('mapdata/municipal_population.csv')"
   ]
  },
  {
   "cell_type": "markdown",
   "metadata": {},
   "source": [
    "## Combine"
   ]
  },
  {
   "cell_type": "code",
   "execution_count": null,
   "metadata": {},
   "outputs": [],
   "source": [
    "lenbm = len(bm)\n",
    "lenhr = len(highrisk)\n",
    "lenmdr = len(medrisk)#combine all medrisk  /\n",
    "lenmdr2 = len(medrisk_sea)\n",
    "bm_range = range(lenbm)\n",
    "highrisk_range = range(lenhr)\n",
    "medrisk_range = range(lenmdr)\n",
    "medrisksea_range = range(lenmdr2)"
   ]
  },
  {
   "cell_type": "code",
   "execution_count": null,
   "metadata": {},
   "outputs": [],
   "source": [
    "bangsamoro_risk = {'high':[],'med':[], 'med_sea':[]}\n",
    "#max_geo_distance = 180 #assuming that max distance of geoobjects is 180'.''\n",
    "for x in bm_range:\n",
    "    municipal_highrisk = 0\n",
    "    municipal_medrisk = 0\n",
    "    municipal_medrisksea = 0\n",
    "    for y in highrisk_range:\n",
    "        municipal_highrisk += bm.geometry[x].centroid.distance(highrisk.geometry[y])\n",
    "    for z in medrisk_range:\n",
    "        municipal_medrisk += bm.geometry[x].centroid.distance(medrisk.geometry[z])\n",
    "    for v in medrisksea_range:\n",
    "        municipal_medrisksea += bm.geometry[x].centroid.distance(medrisk_sea.geometry[v])\n",
    "    bangsamoro_risk['high'].append(1/(municipal_highrisk)**2)\n",
    "    bangsamoro_risk['med'].append(1/(municipal_medrisk)**2)\n",
    "    bangsamoro_risk['med_sea'].append(1/(municipal_medrisksea)**2)"
   ]
  },
  {
   "cell_type": "code",
   "execution_count": null,
   "metadata": {},
   "outputs": [],
   "source": [
    "#add normalized to geodata for choropleth\n",
    "bm['high'] = bangsamoro_risk['high']\n",
    "bm['high'] = bm['high']/bm['high'].max()\n",
    "bm['med'] = bangsamoro_risk['med']\n",
    "bm['med'] = bm['med']/bm['med'].max()\n",
    "bm['med_sea'] = bangsamoro_risk['med_sea']\n",
    "bm['med_sea'] = bm['med_sea']/bm['med_sea'].max()"
   ]
  },
  {
   "cell_type": "code",
   "execution_count": null,
   "metadata": {},
   "outputs": [],
   "source": [
    "bm = bm.merge(population[['POPULATION','PSGC_CITY/MUNI']], left_on='Mun_Code', right_on='PSGC_CITY/MUNI').drop('PSGC_CITY/MUNI', axis=1)"
   ]
  },
  {
   "cell_type": "markdown",
   "metadata": {},
   "source": [
    "## Output"
   ]
  },
  {
   "cell_type": "code",
   "execution_count": null,
   "metadata": {},
   "outputs": [],
   "source": [
    "medrisk_sea.to_file(\"output/medsea.geojson\", driver = \"GeoJSON\")\n",
    "medrisk.to_file(\"output/medrisk.geojson\", driver = \"GeoJSON\")\n",
    "highrisk.to_file(\"output/highrisk.geojson\", driver = \"GeoJSON\")\n",
    "bm.to_file(\"output/merged_data.geojson\", driver = \"GeoJSON\")"
   ]
  },
  {
   "cell_type": "markdown",
   "metadata": {},
   "source": [
    "# Visualizations"
   ]
  },
  {
   "cell_type": "markdown",
   "metadata": {},
   "source": [
    "## Builtin/Matplotlib"
   ]
  },
  {
   "cell_type": "code",
   "execution_count": null,
   "metadata": {},
   "outputs": [],
   "source": [
    "x = bm.plot(color='lightblue', edgecolor='gray', figsize=(30,30))\n",
    "#y = bm.plot(color='lightblue', edgecolor='gray', figsize=(30,30))\n",
    "#z = bm.plot(color='lightblue', edgecolor='gray', figsize=(30,30))"
   ]
  },
  {
   "cell_type": "code",
   "execution_count": null,
   "metadata": {},
   "outputs": [],
   "source": [
    "highrisk.plot(ax=x, color='red')"
   ]
  },
  {
   "cell_type": "code",
   "execution_count": null,
   "metadata": {},
   "outputs": [],
   "source": [
    "medrisk.plot(ax=x, color='orange')\n",
    "medrisk_sea.plot(ax=x, color='green')"
   ]
  },
  {
   "cell_type": "code",
   "execution_count": null,
   "metadata": {},
   "outputs": [],
   "source": [
    "x.get_figure()"
   ]
  },
  {
   "cell_type": "markdown",
   "metadata": {},
   "source": [
    "## Bokeh"
   ]
  },
  {
   "cell_type": "code",
   "execution_count": null,
   "metadata": {},
   "outputs": [],
   "source": [
    "from bokeh.io import output_notebook, show, output_file\n",
    "from bokeh.plotting import figure\n",
    "from bokeh.models import GeoJSONDataSource, LinearColorMapper, ColorBar, NumeralTickFormatter\n",
    "from bokeh.palettes import brewer\n",
    "\n",
    "from bokeh.io.doc import curdoc\n",
    "from bokeh.models import Slider, HoverTool, Select\n",
    "from bokeh.layouts import widgetbox, row, column"
   ]
  },
  {
   "cell_type": "code",
   "execution_count": null,
   "metadata": {},
   "outputs": [],
   "source": [
    "def update_plot(attr,old,new):\n",
    "    severity=select.value\n",
    "    new_data = json_data(severity)\n",
    "    #input_field\n",
    "    geosource.geojson = new_data\n",
    "    hover = HoverTool(tooltips = [('Municipality','@Mun_Name'),(severity+' risk','@'+severity)])\n",
    "    p = make_plot(severity)\n",
    "    layout=column(p,widgetbox(select))\n",
    "    curdoc().clear()\n",
    "    curdoc().add_root(layout)"
   ]
  },
  {
   "cell_type": "code",
   "execution_count": null,
   "metadata": {},
   "outputs": [],
   "source": [
    "def json_data(severity):\n",
    "    if severity == 'high':\n",
    "        return json.dumps(json.loads(bm.drop(['med', 'med_sea'], axis=1).to_json()))\n",
    "    if severity == 'med':\n",
    "        return json.dumps(json.loads(bm.drop(['high', 'med_sea'], axis=1).to_json()))\n",
    "    return json.dumps(json.loads(bm.drop(['high', 'med'],axis=1).to_json()))    "
   ]
  },
  {
   "cell_type": "code",
   "execution_count": null,
   "metadata": {},
   "outputs": [],
   "source": [
    "def make_plot(severity):\n",
    "    color_mapper = LinearColorMapper(palette=palette,low=bm[severity].min(), high=bm[severity].max())\n",
    "    #format_tick = NumeralTickFormatter(format='0.0')\n",
    "    color_bar = ColorBar(color_mapper=color_mapper, location=(0,0))\n",
    "    p = figure(title='Title', plot_height = 650, plot_width = 850, toolbar_location = None)\n",
    "    #p = figure()\n",
    "    p.xgrid.grid_line_color = None\n",
    "    p.ygrid.grid_line_color = None\n",
    "    p.axis.visible = False\n",
    "    p.patches('xs', 'ys', source=geosource, fill_color = {'field' : severity, 'transform' : color_mapper}, line_color = 'gray', line_width = 0.25, fill_alpha = 1)\n",
    "    p.add_layout(color_bar, 'right')\n",
    "    p.add_tools(hover)\n",
    "    return p"
   ]
  },
  {
   "cell_type": "code",
   "execution_count": null,
   "metadata": {},
   "outputs": [],
   "source": [
    "severity = 'high'\n",
    "geosource = GeoJSONDataSource(geojson = json_data(severity))"
   ]
  },
  {
   "cell_type": "code",
   "execution_count": null,
   "metadata": {},
   "outputs": [],
   "source": [
    "palette = brewer['Blues'][8]\n",
    "palette = palette[::-1]\n",
    "hover = HoverTool(tooltips = [('Municipality','@Mun_Name'),(severity+' risk','@'+severity),('Population','@POPULATION')])\n",
    "p = make_plot(severity)\n",
    "select = Select(title='Select Severity:', value=severity, options=['high','med','med_sea'])\n",
    "#maybe we could add toggle for epicenters and evacuation centers\n",
    "select.on_change('value', update_plot)\n",
    "layout=column(p, widgetbox(select))\n",
    "curdoc().add_root(layout)"
   ]
  },
  {
   "cell_type": "code",
   "execution_count": null,
   "metadata": {},
   "outputs": [],
   "source": [
    "#output_notebook() #comment out when deploying to heroku"
   ]
  },
  {
   "cell_type": "code",
   "execution_count": null,
   "metadata": {},
   "outputs": [],
   "source": [
    "#p= figure() #comment out when deploying to heroku"
   ]
  },
  {
   "cell_type": "code",
   "execution_count": null,
   "metadata": {},
   "outputs": [],
   "source": [
    "#show(p) #comment out when deploying to heroku"
   ]
  },
  {
   "cell_type": "markdown",
   "metadata": {},
   "source": [
    "## Plotly"
   ]
  },
  {
   "cell_type": "code",
   "execution_count": null,
   "metadata": {},
   "outputs": [],
   "source": [
    "import json\n",
    "import geopandas as gpd\n",
    "import plotly.express as px\n",
    "import plotly.graph_objects as go"
   ]
  },
  {
   "cell_type": "code",
   "execution_count": null,
   "metadata": {},
   "outputs": [],
   "source": [
    "bm = gpd.read_file('output/merged_data.geojson')\n",
    "with open(\"output/merged_data.geojson\") as geofile:\n",
    "    j_file = json.load(geofile)\n",
    "with open('output/highrisk.geojson') as highriskfile:\n",
    "    h_file = json.load(highriskfile)"
   ]
  },
  {
   "cell_type": "code",
   "execution_count": null,
   "metadata": {},
   "outputs": [],
   "source": [
    "for feature in j_file[\"features\"]:\n",
    "    feature['id']= feature['properties']['Mun_Code']"
   ]
  },
  {
   "cell_type": "code",
   "execution_count": null,
   "metadata": {},
   "outputs": [],
   "source": [
    "risk='med_sea'\n",
    "color = {'high':'spectral_r', 'med':'oranges', 'med_sea':'algae'}\n",
    "risk_translation = {'high':'Above Magnitude 5 Risk', 'med': 'Below Magnitude 5 Risk', 'med_sea': 'Below Sea-Floor Below Magnitude 5 Risk'}"
   ]
  },
  {
   "cell_type": "code",
   "execution_count": null,
   "metadata": {},
   "outputs": [],
   "source": [
    "px.set_mapbox_access_token('pk.eyJ1Ijoia2V2c2VzdHJlbGxhIiwiYSI6ImNrNWlwcWpvZDBoNGEza21zeDc0OWczeDIifQ.-ajWL8TrUDMCN1OzzXTjhg')"
   ]
  },
  {
   "cell_type": "code",
   "execution_count": null,
   "metadata": {
    "scrolled": true
   },
   "outputs": [],
   "source": [
    "fig = px.choropleth_mapbox(bm[['Mun_Name','Mun_Code','POPULATION','high','med', 'med_sea']], geojson=j_file, locations='Mun_Code',\n",
    "                           color=risk, color_continuous_scale='spectral_r', range_color=(1,0),\n",
    "                           mapbox_style=\"light\", zoom=6, center = {\"lat\": 6.509640, \"lon\": 121.648446},\n",
    "                           opacity=0.5,labels={'Mun_Name':'Municipality',risk:'risk', 'POPULATION':'Population'}, hover_data = ['Mun_Name', 'POPULATION'])\n",
    "fig.add_trace(go.Scattergeo(geojson=h_file))\n",
    "#fig.update_layout(margin={\"r\":0,\"t\":0,\"l\":0,\"b\":0})\n",
    "fig.show()"
   ]
  },
  {
   "cell_type": "code",
   "execution_count": null,
   "metadata": {},
   "outputs": [],
   "source": [
    " ['aggrnyl', 'agsunset', 'algae', 'amp', 'armyrose', 'balance',\n",
    "             'blackbody', 'bluered', 'blues', 'blugrn', 'bluyl', 'brbg',\n",
    "             'brwnyl', 'bugn', 'bupu', 'burg', 'burgyl', 'cividis', 'curl',\n",
    "             'darkmint', 'deep', 'delta', 'dense', 'earth', 'edge', 'electric',\n",
    "             'emrld', 'fall', 'geyser', 'gnbu', 'gray', 'greens', 'greys',\n",
    "             'haline', 'hot', 'hsv', 'ice', 'icefire', 'inferno', 'jet',\n",
    "             'magenta', 'magma', 'matter', 'mint', 'mrybm', 'mygbm', 'oranges',\n",
    "             'orrd', 'oryel', 'peach', 'phase', 'picnic', 'pinkyl', 'piyg',\n",
    "             'plasma', 'plotly3', 'portland', 'prgn', 'pubu', 'pubugn', 'puor',\n",
    "             'purd', 'purp', 'purples', 'purpor', 'rainbow', 'rdbu', 'rdgy',\n",
    "             'rdpu', 'rdylbu', 'rdylgn', 'redor', 'reds', 'solar', 'spectral',\n",
    "             'speed', 'sunset', 'sunsetdark', 'teal', 'tealgrn', 'tealrose',\n",
    "             'tempo', 'temps', 'thermal', 'tropic', 'turbid', 'twilight',\n",
    "             'viridis', 'ylgn', 'ylgnbu', 'ylorbr', 'ylorrd']."
   ]
  },
  {
   "cell_type": "code",
   "execution_count": null,
   "metadata": {},
   "outputs": [],
   "source": [
    "highrisk['geometry']"
   ]
  },
  {
   "cell_type": "code",
   "execution_count": null,
   "metadata": {},
   "outputs": [],
   "source": []
  }
 ],
 "metadata": {
  "kernelspec": {
   "display_name": "Python 3",
   "language": "python",
   "name": "python3"
  },
  "language_info": {
   "codemirror_mode": {
    "name": "ipython",
    "version": 3
   },
   "file_extension": ".py",
   "mimetype": "text/x-python",
   "name": "python",
   "nbconvert_exporter": "python",
   "pygments_lexer": "ipython3",
   "version": "3.7.3"
  }
 },
 "nbformat": 4,
 "nbformat_minor": 4
}
