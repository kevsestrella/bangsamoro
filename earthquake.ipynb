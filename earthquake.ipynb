{
 "cells": [
  {
   "cell_type": "markdown",
   "metadata": {},
   "source": [
    "# Bangsamoro Earthquake Data Visualization\n",
    "## Links\n",
    "1. https://towardsdatascience.com/how-to-create-an-interactive-geographic-map-using-python-and-bokeh-12981ca0b567\n",
    "\n",
    "## Instructions(Local)\n",
    "0. Make sure packages required are installed : `pip install -r requirements.txt`\n",
    "1. Running this notebook is not needed. We can go directly to command line and run `bokeh serve path/to/this/ipynb --show`\n",
    "2. Open localhost:5006/earthquake on your browser or whatever link is provided after step 1\n",
    "3. Wait for a while as bokeh is quite slow(possibly depend on your machine)\n",
    "\n",
    "## Todo\n",
    "1. Include non BARMM Geodata as the visualization has a lot of white space, but gray out this non BARMM as this is not part of the project\n",
    "2. Fix hover, it is not working when changing to medium risk earthquake data\n",
    "3. Deploy to heroku\n",
    "4. See if PWA/Offline App possible"
   ]
  },
  {
   "cell_type": "code",
   "execution_count": null,
   "metadata": {},
   "outputs": [],
   "source": [
    "import pandas as pd\n",
    "import numpy as np\n",
    "import math\n",
    "\n",
    "import geopandas as gpd\n",
    "import shapely.geometry as gm\n",
    "import json\n",
    "\n",
    "from bokeh.io import output_notebook, show, output_file\n",
    "from bokeh.plotting import figure\n",
    "from bokeh.models import GeoJSONDataSource, LinearColorMapper, ColorBar, NumeralTickFormatter\n",
    "from bokeh.palettes import brewer\n",
    "\n",
    "from bokeh.io.doc import curdoc\n",
    "from bokeh.models import Slider, HoverTool, Select\n",
    "from bokeh.layouts import widgetbox, row, column"
   ]
  },
  {
   "cell_type": "markdown",
   "metadata": {},
   "source": [
    "# Geo Data Preparation"
   ]
  },
  {
   "cell_type": "code",
   "execution_count": null,
   "metadata": {},
   "outputs": [],
   "source": [
    "highrisk = pd.read_csv('data/high_risk0.csv')\n",
    "medrisk = pd.read_csv('data/midrisk.csv')\n",
    "medrisk_sea = pd.read_csv('data/medium.csv')"
   ]
  },
  {
   "cell_type": "code",
   "execution_count": null,
   "metadata": {},
   "outputs": [],
   "source": [
    "highrisk = gpd.GeoDataFrame(highrisk.drop(['latitude','longitude'],axis=1), crs={'init': 'epsg:4326'} ,geometry = [gm.Point(latlong) for latlong in zip(highrisk.longitude, highrisk.latitude)])\n",
    "medrisk = gpd.GeoDataFrame(medrisk.drop(['latitude','longitude'],axis=1), crs={'init': 'epsg:4326'} ,geometry = [gm.Point(latlong) for latlong in zip(medrisk.longitude, medrisk.latitude)])\n",
    "medrisk_sea = gpd.GeoDataFrame(medrisk_sea.drop(['latitude','longitude'],axis=1), crs={'init': 'epsg:4326'} ,geometry = [gm.Point(latlong) for latlong in zip(medrisk_sea.longitude, medrisk_sea.latitude)])"
   ]
  },
  {
   "cell_type": "code",
   "execution_count": null,
   "metadata": {},
   "outputs": [],
   "source": [
    "bm = gpd.read_file('mapdata/AdministrativeBoundariesBARMMMunicipalities20190206PSA2016.shp')"
   ]
  },
  {
   "cell_type": "code",
   "execution_count": null,
   "metadata": {},
   "outputs": [],
   "source": [
    "bm = bm.to_crs(epsg=4236)"
   ]
  },
  {
   "cell_type": "markdown",
   "metadata": {},
   "source": [
    "# Initial Visualizations"
   ]
  },
  {
   "cell_type": "code",
   "execution_count": null,
   "metadata": {},
   "outputs": [],
   "source": [
    "x = bm.plot(color='lightblue', edgecolor='gray', figsize=(30,30))\n",
    "y = bm.plot(color='lightblue', edgecolor='gray', figsize=(30,30))\n",
    "z = bm.plot(color='lightblue', edgecolor='gray', figsize=(30,30))"
   ]
  },
  {
   "cell_type": "code",
   "execution_count": null,
   "metadata": {},
   "outputs": [],
   "source": [
    "highrisk.plot(ax=x, color='red')"
   ]
  },
  {
   "cell_type": "code",
   "execution_count": null,
   "metadata": {},
   "outputs": [],
   "source": [
    "medrisk.plot(ax=x, color='orange')\n",
    "medrisk_sea.plot(ax=x, color='green')"
   ]
  },
  {
   "cell_type": "code",
   "execution_count": null,
   "metadata": {},
   "outputs": [],
   "source": [
    "x.get_figure()"
   ]
  },
  {
   "cell_type": "markdown",
   "metadata": {},
   "source": [
    "# Geo Data Preprocessing"
   ]
  },
  {
   "cell_type": "code",
   "execution_count": null,
   "metadata": {},
   "outputs": [],
   "source": [
    "lenbm = len(bm)\n",
    "lenhr = len(highrisk)\n",
    "lenmdr = len(medrisk)#combine all medrisk  /\n",
    "lenmdr2 = len(medrisk_sea)\n",
    "bm_range = range(lenbm)\n",
    "highrisk_range = range(lenhr)\n",
    "medrisk_range = range(lenmdr)\n",
    "medrisksea_range = range(lenmdr2)"
   ]
  },
  {
   "cell_type": "code",
   "execution_count": null,
   "metadata": {},
   "outputs": [],
   "source": [
    "bangsamoro_risk = {'high':[],'med':[], 'med_sea':[]}\n",
    "#max_geo_distance = 180 #assuming that max distance of geoobjects is 180'.''\n",
    "for x in bm_range:\n",
    "    municipal_highrisk = 0\n",
    "    municipal_medrisk = 0\n",
    "    municipal_medrisksea = 0\n",
    "    for y in highrisk_range:\n",
    "        municipal_highrisk += bm.geometry[x].centroid.distance(highrisk.geometry[y])\n",
    "    for z in medrisk_range:\n",
    "        municipal_medrisk += bm.geometry[x].centroid.distance(medrisk.geometry[z])\n",
    "    for v in medrisksea_range:\n",
    "        municipal_medrisksea += bm.geometry[x].centroid.distance(medrisk_sea.geometry[v])\n",
    "    bangsamoro_risk['high'].append(1/(municipal_highrisk)**2)\n",
    "    bangsamoro_risk['med'].append(1/(municipal_medrisk)**2)\n",
    "    bangsamoro_risk['med_sea'].append(1/(municipal_medrisksea)**2)"
   ]
  },
  {
   "cell_type": "code",
   "execution_count": null,
   "metadata": {},
   "outputs": [],
   "source": [
    "#add normalized to geodata for choropleth\n",
    "bm['high'] = bangsamoro_risk['high']\n",
    "bm['high'] = bm['high']/bm['high'].max()\n",
    "bm['med'] = bangsamoro_risk['med']\n",
    "bm['med'] = bm['med']/bm['med'].max()\n",
    "bm['med_sea'] = bangsamoro_risk['med_sea']\n",
    "bm['med_sea'] = bm['med_sea']/bm['med_sea'].max()"
   ]
  },
  {
   "cell_type": "code",
   "execution_count": null,
   "metadata": {},
   "outputs": [],
   "source": [
    "population = pd.read_csv('mapdata/municipal_population.csv')"
   ]
  },
  {
   "cell_type": "code",
   "execution_count": null,
   "metadata": {},
   "outputs": [],
   "source": [
    "bm = bm.merge(population[['POPULATION','PSGC_CITY/MUNI']], left_on='Mun_Code', right_on='PSGC_CITY/MUNI').drop('PSGC_CITY/MUNI', axis=1)"
   ]
  },
  {
   "cell_type": "markdown",
   "metadata": {},
   "source": [
    "# Bokeh Visualization"
   ]
  },
  {
   "cell_type": "code",
   "execution_count": null,
   "metadata": {},
   "outputs": [],
   "source": [
    "def update_plot(attr,old,new):\n",
    "    severity=select.value\n",
    "    new_data = json_data(severity)\n",
    "    #input_field\n",
    "    geosource.geojson = new_data\n",
    "    hover = HoverTool(tooltips = [('Municipality','@Mun_Name'),(severity+' risk','@'+severity)])\n",
    "    p = make_plot(severity)\n",
    "    layout=column(p,widgetbox(select))\n",
    "    curdoc().clear()\n",
    "    curdoc().add_root(layout)"
   ]
  },
  {
   "cell_type": "code",
   "execution_count": null,
   "metadata": {},
   "outputs": [],
   "source": [
    "def json_data(severity):\n",
    "    if severity == 'high':\n",
    "        return json.dumps(json.loads(bm.drop(['med', 'med_sea'], axis=1).to_json()))\n",
    "    if severity == 'med':\n",
    "        return json.dumps(json.loads(bm.drop(['high', 'med_sea'], axis=1).to_json()))\n",
    "    return json.dumps(json.loads(bm.drop(['high', 'med'],axis=1).to_json()))    "
   ]
  },
  {
   "cell_type": "code",
   "execution_count": null,
   "metadata": {},
   "outputs": [],
   "source": [
    "def make_plot(severity):\n",
    "    color_mapper = LinearColorMapper(palette=palette,low=bm[severity].min(), high=bm[severity].max())\n",
    "    #format_tick = NumeralTickFormatter(format='0.0')\n",
    "    color_bar = ColorBar(color_mapper=color_mapper, location=(0,0))\n",
    "    p = figure(title='Title', plot_height = 650, plot_width = 850, toolbar_location = None)\n",
    "    #p = figure()\n",
    "    p.xgrid.grid_line_color = None\n",
    "    p.ygrid.grid_line_color = None\n",
    "    p.axis.visible = False\n",
    "    p.patches('xs', 'ys', source=geosource, fill_color = {'field' : severity, 'transform' : color_mapper}, line_color = 'gray', line_width = 0.25, fill_alpha = 1)\n",
    "    p.add_layout(color_bar, 'right')\n",
    "    p.add_tools(hover)\n",
    "    return p"
   ]
  },
  {
   "cell_type": "code",
   "execution_count": null,
   "metadata": {},
   "outputs": [],
   "source": [
    "severity = 'high'\n",
    "geosource = GeoJSONDataSource(geojson = json_data(severity))"
   ]
  },
  {
   "cell_type": "code",
   "execution_count": null,
   "metadata": {},
   "outputs": [],
   "source": [
    "palette = brewer['Blues'][8]\n",
    "palette = palette[::-1]\n",
    "hover = HoverTool(tooltips = [('Municipality','@Mun_Name'),(severity+' risk','@'+severity),('Population','@POPULATION')])\n",
    "p = make_plot(severity)\n",
    "select = Select(title='Select Severity:', value=severity, options=['high','med','med_sea'])\n",
    "#maybe we could add toggle for epicenters and evacuation centers\n",
    "select.on_change('value', update_plot)\n",
    "layout=column(p, widgetbox(select))\n",
    "curdoc().add_root(layout)"
   ]
  },
  {
   "cell_type": "code",
   "execution_count": null,
   "metadata": {},
   "outputs": [],
   "source": [
    "#output_notebook() #comment out when deploying to heroku"
   ]
  },
  {
   "cell_type": "code",
   "execution_count": null,
   "metadata": {},
   "outputs": [],
   "source": [
    "#p= figure() #comment out when deploying to heroku"
   ]
  },
  {
   "cell_type": "code",
   "execution_count": null,
   "metadata": {},
   "outputs": [],
   "source": [
    "#show(p) #comment out when deploying to heroku"
   ]
  },
  {
   "cell_type": "code",
   "execution_count": null,
   "metadata": {},
   "outputs": [],
   "source": [
    "import chart_studio.plotly as py_cloud\n",
    "import plotly.offline as py"
   ]
  },
  {
   "cell_type": "code",
   "execution_count": null,
   "metadata": {},
   "outputs": [],
   "source": [
    "layout = dict(\n",
    "    hovermode = 'closest',\n",
    "    xaxis = dict(\n",
    "        autorange = False,\n",
    "        range = [-125, -65],\n",
    "        showgrid = False,\n",
    "        zeroline = False,\n",
    "        fixedrange = True\n",
    "    ),\n",
    "    yaxis = dict(\n",
    "        autorange = False,\n",
    "        range = [25, 49],\n",
    "        showgrid = False,\n",
    "        zeroline = False,\n",
    "        fixedrange = True\n",
    "    ),\n",
    "    margin = dict(\n",
    "        t=20,\n",
    "        b=20,\n",
    "        r=20,\n",
    "        l=20\n",
    "    ),\n",
    "    width = 1100,\n",
    "    height = 650,\n",
    "    dragmode = 'select'\n",
    ")"
   ]
  },
  {
   "cell_type": "code",
   "execution_count": null,
   "metadata": {},
   "outputs": [],
   "source": [
    "df = pd.DataFrame(bm)"
   ]
  },
  {
   "cell_type": "code",
   "execution_count": null,
   "metadata": {},
   "outputs": [],
   "source": [
    "plot_data = []\n",
    "for index,row in df.iterrows():\n",
    "    if df['geometry'][index].type == 'Polygon':\n",
    "        x,y = row.geometry.exterior.xy\n",
    "        c_x,c_y = row.geometry.centroid.xy\n",
    "    elif df['geometry'][index].type == 'MultiPolygon':\n",
    "        x = [poly.exterior.xy[0] for poly in df['geometry'][index]]\n",
    "        y = [poly.exterior.xy[1] for poly in df['geometry'][index]]\n",
    "        x_c = [poly.centroid.xy[0] for poly in df['geometry'][index]]\n",
    "        y_c = [poly.centroid.xy[1] for poly in df['geometry'][index]]        \n",
    "    else: \n",
    "        print('stop')\n",
    "    county_outline = dict(\n",
    "            type = 'scatter',\n",
    "            showlegend = False,\n",
    "            legendgroup = \"shapes\",\n",
    "            line = dict(color='black', width=1),\n",
    "            x=x,\n",
    "            y=y,\n",
    "            fill='toself',\n",
    "            fillcolor = 'purple',\n",
    "            hoverinfo='none'\n",
    "    )\n",
    "    hover_point = dict(\n",
    "            type = 'scatter',\n",
    "            showlegend = False,\n",
    "            legendgroup = \"centroids\",\n",
    "            name = row.Mun_Name,\n",
    "            marker = dict(size=2),\n",
    "            x=c_x,\n",
    "            y=c_y,\n",
    "            fill='toself',\n",
    "            fillcolor = 'purple'            \n",
    "    )\n",
    "    plot_data.append(county_outline)\n",
    "    plot_data.append(hover_point)"
   ]
  },
  {
   "cell_type": "code",
   "execution_count": null,
   "metadata": {},
   "outputs": [],
   "source": [
    "len(plot_data)"
   ]
  },
  {
   "cell_type": "code",
   "execution_count": null,
   "metadata": {},
   "outputs": [],
   "source": [
    "fig = dict(data=plot_data, layout=layout)\n",
    "py.plot(fig, filename='bangs.html')"
   ]
  },
  {
   "cell_type": "code",
   "execution_count": null,
   "metadata": {},
   "outputs": [],
   "source": [
    "bm"
   ]
  },
  {
   "cell_type": "code",
   "execution_count": null,
   "metadata": {},
   "outputs": [],
   "source": [
    "import geopandas as gpd\n",
    "from shapely.geometry import LineString, MultiLineString\n",
    "import plotly.graph_objs as go\n",
    "from choropleth_colors import *"
   ]
  },
  {
   "cell_type": "code",
   "execution_count": null,
   "metadata": {},
   "outputs": [],
   "source": [
    "def shapefile_to_geojson(gdf, index_list, level = 1, tolerance=0.025): \n",
    "    # gdf - geopandas dataframe containing the geometry column and values to be mapped to a colorscale\n",
    "    # index_list - a sublist of list(gdf.index)  or gdf.index  for all data\n",
    "    # level - int that gives the level in the shapefile\n",
    "    # tolerance - float parameter to set the Polygon/MultiPolygon degree of simplification\n",
    "    \n",
    "    # returns a geojson type dict \n",
    "   \n",
    "    geo_names = list(gdf[f'Mun_Name'])\n",
    "    geojson = {'type': 'FeatureCollection', 'features': []}\n",
    "    for index in index_list:\n",
    "        geo = gdf['geometry'][index].simplify(tolerance)\n",
    "    \n",
    "        if isinstance(geo.boundary, LineString):\n",
    "            gtype = 'Polygon'\n",
    "            bcoords = np.dstack(geo.boundary.coords.xy).tolist()\n",
    "    \n",
    "        elif isinstance(geo.boundary, MultiLineString):\n",
    "            gtype = 'MultiPolygon'\n",
    "            bcoords = []\n",
    "            for b in geo.boundary:\n",
    "                x, y = b.coords.xy\n",
    "                coords = np.dstack((x,y)).tolist() \n",
    "                bcoords.append(coords) \n",
    "        else: pass\n",
    "        \n",
    "        \n",
    "       \n",
    "        feature = {'type': 'Feature', \n",
    "                   'id' : index,\n",
    "                   'properties': {'name': geo_names[index]},\n",
    "                   'geometry': {'type': gtype,\n",
    "                                'coordinates': bcoords},\n",
    "                    }\n",
    "                                \n",
    "        geojson['features'].append(feature)\n",
    "    return geojson"
   ]
  },
  {
   "cell_type": "code",
   "execution_count": null,
   "metadata": {},
   "outputs": [],
   "source": [
    "level = 1\n",
    "gdf = gpd.read_file(f\"mapdata/AdministrativeBoundariesBARMMMunicipalities20190206PSA2016.shp\", encoding='utf-8')\n",
    "gdf.head()"
   ]
  },
  {
   "cell_type": "code",
   "execution_count": null,
   "metadata": {},
   "outputs": [],
   "source": [
    "geojsdata = shapefile_to_geojson(gdf, list(gdf.index))"
   ]
  },
  {
   "cell_type": "code",
   "execution_count": null,
   "metadata": {},
   "outputs": [],
   "source": [
    "trace = go.Choroplethmapbox(z=bm['high'],\n",
    "                            locations = bm['Mun_Code'], \n",
    "                            colorscale = 'Greens',\n",
    "                            colorbar = dict(thickness=20, ticklen=3),\n",
    "                            geojson = geojsdata,\n",
    "                            text = bm['Mun_Name'],\n",
    "                            hovertemplate = '<b>State</b>: <b>%{text}</b>'+\n",
    "                                            '<br> <b>Val </b>: %{z}<br>',\n",
    "                            marker_line_width=0.1, marker_opacity=0.7)\n",
    "layout = go.Layout(title_text ='Norway mapbox choropleth', title_x =0.5, width=750, height=700,\n",
    "                   mapbox = dict(center= dict(lat=121.7740, lon=12.8797),            \n",
    "                                 accesstoken= mapboxt,\n",
    "                                 zoom=3\n",
    "                               ))\n",
    "\n",
    "fig=go.Figure(layout=layout)\n",
    "fig.show()"
   ]
  },
  {
   "cell_type": "code",
   "execution_count": null,
   "metadata": {},
   "outputs": [],
   "source": [
    "bm"
   ]
  },
  {
   "cell_type": "code",
   "execution_count": null,
   "metadata": {},
   "outputs": [],
   "source": [
    "mapboxt='pk.eyJ1Ijoia2V2c2VzdHJlbGxhIiwiYSI6ImNrNWlwcWpvZDBoNGEza21zeDc0OWczeDIifQ.-ajWL8TrUDMCN1OzzXTjhg'"
   ]
  },
  {
   "cell_type": "code",
   "execution_count": null,
   "metadata": {},
   "outputs": [],
   "source": [
    "bm"
   ]
  },
  {
   "cell_type": "code",
   "execution_count": null,
   "metadata": {},
   "outputs": [],
   "source": [
    "bm.to_file(\"path_to_GeoJSON _file\", driver = \"GeoJSON\")\n",
    "with open(\"path_to_GeoJSON _file\") as geofile:\n",
    "    j_file = json.load(geofile)"
   ]
  },
  {
   "cell_type": "code",
   "execution_count": null,
   "metadata": {},
   "outputs": [],
   "source": [
    "for feature in j_file[\"features\"]:\n",
    "    feature['id']= feature['properties']['Mun_Code']"
   ]
  },
  {
   "cell_type": "code",
   "execution_count": null,
   "metadata": {},
   "outputs": [],
   "source": [
    "import plotly.express as px"
   ]
  },
  {
   "cell_type": "code",
   "execution_count": null,
   "metadata": {},
   "outputs": [],
   "source": [
    "fig = px.choropleth_mapbox(pd.DataFrame(bm)[['Mun_Code','high']], geojson=j_file, locations='Mun_Code',\n",
    "                           color='high', color_continuous_scale='Viridis', range_color=(0,12),\n",
    "                           mapbox_style=\"carto-positron\", zoom=3, center = {\"lat\": 7.8797, \"lon\": 124.7740},\n",
    "                           opacity=0.5,labels={'high':'risk'})\n",
    "fig.update_layout(margin={\"r\":0,\"t\":0,\"l\":0,\"b\":0})\n",
    "fig.show()"
   ]
  },
  {
   "cell_type": "code",
   "execution_count": null,
   "metadata": {},
   "outputs": [],
   "source": []
  }
 ],
 "metadata": {
  "kernelspec": {
   "display_name": "Python 3",
   "language": "python",
   "name": "python3"
  },
  "language_info": {
   "codemirror_mode": {
    "name": "ipython",
    "version": 3
   },
   "file_extension": ".py",
   "mimetype": "text/x-python",
   "name": "python",
   "nbconvert_exporter": "python",
   "pygments_lexer": "ipython3",
   "version": "3.7.6"
  }
 },
 "nbformat": 4,
 "nbformat_minor": 4
}
